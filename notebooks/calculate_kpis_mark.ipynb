{
 "cells": [
  {
   "cell_type": "code",
   "execution_count": 1,
   "metadata": {},
   "outputs": [],
   "source": [
    "import pandas as pd"
   ]
  },
  {
   "cell_type": "code",
   "execution_count": 2,
   "metadata": {},
   "outputs": [
    {
     "data": {
      "text/html": [
       "<div>\n",
       "<style scoped>\n",
       "    .dataframe tbody tr th:only-of-type {\n",
       "        vertical-align: middle;\n",
       "    }\n",
       "\n",
       "    .dataframe tbody tr th {\n",
       "        vertical-align: top;\n",
       "    }\n",
       "\n",
       "    .dataframe thead th {\n",
       "        text-align: right;\n",
       "    }\n",
       "</style>\n",
       "<table border=\"1\" class=\"dataframe\">\n",
       "  <thead>\n",
       "    <tr style=\"text-align: right;\">\n",
       "      <th></th>\n",
       "      <th>id</th>\n",
       "      <th>client_id</th>\n",
       "      <th>visitor_id</th>\n",
       "      <th>visit_id</th>\n",
       "      <th>process_step</th>\n",
       "      <th>date_time</th>\n",
       "    </tr>\n",
       "  </thead>\n",
       "  <tbody>\n",
       "    <tr>\n",
       "      <th>0</th>\n",
       "      <td>1</td>\n",
       "      <td>9988021</td>\n",
       "      <td>580560515_7732621733</td>\n",
       "      <td>781255054_21935453173_531117</td>\n",
       "      <td>step_3</td>\n",
       "      <td>2017-04-17 15:27:07</td>\n",
       "    </tr>\n",
       "    <tr>\n",
       "      <th>1</th>\n",
       "      <td>2</td>\n",
       "      <td>9988021</td>\n",
       "      <td>580560515_7732621733</td>\n",
       "      <td>781255054_21935453173_531117</td>\n",
       "      <td>step_2</td>\n",
       "      <td>2017-04-17 15:26:51</td>\n",
       "    </tr>\n",
       "    <tr>\n",
       "      <th>2</th>\n",
       "      <td>3</td>\n",
       "      <td>9988021</td>\n",
       "      <td>580560515_7732621733</td>\n",
       "      <td>781255054_21935453173_531117</td>\n",
       "      <td>step_3</td>\n",
       "      <td>2017-04-17 15:19:22</td>\n",
       "    </tr>\n",
       "    <tr>\n",
       "      <th>3</th>\n",
       "      <td>4</td>\n",
       "      <td>9988021</td>\n",
       "      <td>580560515_7732621733</td>\n",
       "      <td>781255054_21935453173_531117</td>\n",
       "      <td>step_2</td>\n",
       "      <td>2017-04-17 15:19:13</td>\n",
       "    </tr>\n",
       "    <tr>\n",
       "      <th>4</th>\n",
       "      <td>5</td>\n",
       "      <td>9988021</td>\n",
       "      <td>580560515_7732621733</td>\n",
       "      <td>781255054_21935453173_531117</td>\n",
       "      <td>step_3</td>\n",
       "      <td>2017-04-17 15:18:04</td>\n",
       "    </tr>\n",
       "  </tbody>\n",
       "</table>\n",
       "</div>"
      ],
      "text/plain": [
       "   id  client_id            visitor_id                      visit_id  \\\n",
       "0   1    9988021  580560515_7732621733  781255054_21935453173_531117   \n",
       "1   2    9988021  580560515_7732621733  781255054_21935453173_531117   \n",
       "2   3    9988021  580560515_7732621733  781255054_21935453173_531117   \n",
       "3   4    9988021  580560515_7732621733  781255054_21935453173_531117   \n",
       "4   5    9988021  580560515_7732621733  781255054_21935453173_531117   \n",
       "\n",
       "  process_step           date_time  \n",
       "0       step_3 2017-04-17 15:27:07  \n",
       "1       step_2 2017-04-17 15:26:51  \n",
       "2       step_3 2017-04-17 15:19:22  \n",
       "3       step_2 2017-04-17 15:19:13  \n",
       "4       step_3 2017-04-17 15:18:04  "
      ]
     },
     "execution_count": 2,
     "metadata": {},
     "output_type": "execute_result"
    }
   ],
   "source": [
    "df = pd.read_csv(\"../data/clean/visits.csv\")\n",
    "\n",
    "df[\"date_time\"] = pd.to_datetime(df[\"date_time\"])\n",
    "df.head()"
   ]
  },
  {
   "cell_type": "code",
   "execution_count": 3,
   "metadata": {},
   "outputs": [],
   "source": [
    "df_visits = df.groupby([\"client_id\", \"visitor_id\", \"visit_id\", \"process_step\"]).agg({\"date_time\": \"max\"}).reset_index()"
   ]
  },
  {
   "cell_type": "code",
   "execution_count": 4,
   "metadata": {},
   "outputs": [
    {
     "data": {
      "text/html": [
       "<div>\n",
       "<style scoped>\n",
       "    .dataframe tbody tr th:only-of-type {\n",
       "        vertical-align: middle;\n",
       "    }\n",
       "\n",
       "    .dataframe tbody tr th {\n",
       "        vertical-align: top;\n",
       "    }\n",
       "\n",
       "    .dataframe thead th {\n",
       "        text-align: right;\n",
       "    }\n",
       "</style>\n",
       "<table border=\"1\" class=\"dataframe\">\n",
       "  <thead>\n",
       "    <tr style=\"text-align: right;\">\n",
       "      <th></th>\n",
       "      <th>client_id</th>\n",
       "      <th>visitor_id</th>\n",
       "      <th>visit_id</th>\n",
       "      <th>process_step</th>\n",
       "      <th>date_time</th>\n",
       "    </tr>\n",
       "  </thead>\n",
       "  <tbody>\n",
       "    <tr>\n",
       "      <th>0</th>\n",
       "      <td>169</td>\n",
       "      <td>201385055_71273495308</td>\n",
       "      <td>749567106_99161211863_557568</td>\n",
       "      <td>confirm</td>\n",
       "      <td>2017-04-12 20:23:09</td>\n",
       "    </tr>\n",
       "    <tr>\n",
       "      <th>1</th>\n",
       "      <td>169</td>\n",
       "      <td>201385055_71273495308</td>\n",
       "      <td>749567106_99161211863_557568</td>\n",
       "      <td>start</td>\n",
       "      <td>2017-04-12 20:19:36</td>\n",
       "    </tr>\n",
       "    <tr>\n",
       "      <th>2</th>\n",
       "      <td>169</td>\n",
       "      <td>201385055_71273495308</td>\n",
       "      <td>749567106_99161211863_557568</td>\n",
       "      <td>step_1</td>\n",
       "      <td>2017-04-12 20:19:45</td>\n",
       "    </tr>\n",
       "    <tr>\n",
       "      <th>3</th>\n",
       "      <td>169</td>\n",
       "      <td>201385055_71273495308</td>\n",
       "      <td>749567106_99161211863_557568</td>\n",
       "      <td>step_2</td>\n",
       "      <td>2017-04-12 20:20:31</td>\n",
       "    </tr>\n",
       "    <tr>\n",
       "      <th>4</th>\n",
       "      <td>169</td>\n",
       "      <td>201385055_71273495308</td>\n",
       "      <td>749567106_99161211863_557568</td>\n",
       "      <td>step_3</td>\n",
       "      <td>2017-04-12 20:22:05</td>\n",
       "    </tr>\n",
       "  </tbody>\n",
       "</table>\n",
       "</div>"
      ],
      "text/plain": [
       "   client_id             visitor_id                      visit_id  \\\n",
       "0        169  201385055_71273495308  749567106_99161211863_557568   \n",
       "1        169  201385055_71273495308  749567106_99161211863_557568   \n",
       "2        169  201385055_71273495308  749567106_99161211863_557568   \n",
       "3        169  201385055_71273495308  749567106_99161211863_557568   \n",
       "4        169  201385055_71273495308  749567106_99161211863_557568   \n",
       "\n",
       "  process_step           date_time  \n",
       "0      confirm 2017-04-12 20:23:09  \n",
       "1        start 2017-04-12 20:19:36  \n",
       "2       step_1 2017-04-12 20:19:45  \n",
       "3       step_2 2017-04-12 20:20:31  \n",
       "4       step_3 2017-04-12 20:22:05  "
      ]
     },
     "execution_count": 4,
     "metadata": {},
     "output_type": "execute_result"
    }
   ],
   "source": [
    "df_visits.head()"
   ]
  },
  {
   "cell_type": "code",
   "execution_count": 5,
   "metadata": {},
   "outputs": [
    {
     "data": {
      "text/html": [
       "<div>\n",
       "<style scoped>\n",
       "    .dataframe tbody tr th:only-of-type {\n",
       "        vertical-align: middle;\n",
       "    }\n",
       "\n",
       "    .dataframe tbody tr th {\n",
       "        vertical-align: top;\n",
       "    }\n",
       "\n",
       "    .dataframe thead th {\n",
       "        text-align: right;\n",
       "    }\n",
       "</style>\n",
       "<table border=\"1\" class=\"dataframe\">\n",
       "  <thead>\n",
       "    <tr style=\"text-align: right;\">\n",
       "      <th></th>\n",
       "      <th>id</th>\n",
       "      <th>client_id</th>\n",
       "      <th>variation</th>\n",
       "    </tr>\n",
       "  </thead>\n",
       "  <tbody>\n",
       "    <tr>\n",
       "      <th>0</th>\n",
       "      <td>1</td>\n",
       "      <td>9988021</td>\n",
       "      <td>Test</td>\n",
       "    </tr>\n",
       "    <tr>\n",
       "      <th>1</th>\n",
       "      <td>2</td>\n",
       "      <td>8320017</td>\n",
       "      <td>Test</td>\n",
       "    </tr>\n",
       "    <tr>\n",
       "      <th>2</th>\n",
       "      <td>3</td>\n",
       "      <td>4033851</td>\n",
       "      <td>Control</td>\n",
       "    </tr>\n",
       "    <tr>\n",
       "      <th>3</th>\n",
       "      <td>4</td>\n",
       "      <td>1982004</td>\n",
       "      <td>Test</td>\n",
       "    </tr>\n",
       "    <tr>\n",
       "      <th>4</th>\n",
       "      <td>5</td>\n",
       "      <td>9294070</td>\n",
       "      <td>Control</td>\n",
       "    </tr>\n",
       "  </tbody>\n",
       "</table>\n",
       "</div>"
      ],
      "text/plain": [
       "   id  client_id variation\n",
       "0   1    9988021      Test\n",
       "1   2    8320017      Test\n",
       "2   3    4033851   Control\n",
       "3   4    1982004      Test\n",
       "4   5    9294070   Control"
      ]
     },
     "execution_count": 5,
     "metadata": {},
     "output_type": "execute_result"
    }
   ],
   "source": [
    "df_experiments = pd.read_csv(\"../data/clean/experiments.csv\")\n",
    "df_experiments.head()"
   ]
  },
  {
   "cell_type": "code",
   "execution_count": 6,
   "metadata": {},
   "outputs": [
    {
     "data": {
      "text/html": [
       "<div>\n",
       "<style scoped>\n",
       "    .dataframe tbody tr th:only-of-type {\n",
       "        vertical-align: middle;\n",
       "    }\n",
       "\n",
       "    .dataframe tbody tr th {\n",
       "        vertical-align: top;\n",
       "    }\n",
       "\n",
       "    .dataframe thead th {\n",
       "        text-align: right;\n",
       "    }\n",
       "</style>\n",
       "<table border=\"1\" class=\"dataframe\">\n",
       "  <thead>\n",
       "    <tr style=\"text-align: right;\">\n",
       "      <th></th>\n",
       "      <th>client_id</th>\n",
       "      <th>visitor_id</th>\n",
       "      <th>visit_id</th>\n",
       "      <th>process_step</th>\n",
       "      <th>date_time</th>\n",
       "      <th>id</th>\n",
       "      <th>variation</th>\n",
       "    </tr>\n",
       "  </thead>\n",
       "  <tbody>\n",
       "    <tr>\n",
       "      <th>0</th>\n",
       "      <td>169</td>\n",
       "      <td>201385055_71273495308</td>\n",
       "      <td>749567106_99161211863_557568</td>\n",
       "      <td>confirm</td>\n",
       "      <td>2017-04-12 20:23:09</td>\n",
       "      <td>58723.0</td>\n",
       "      <td>Control</td>\n",
       "    </tr>\n",
       "    <tr>\n",
       "      <th>1</th>\n",
       "      <td>169</td>\n",
       "      <td>201385055_71273495308</td>\n",
       "      <td>749567106_99161211863_557568</td>\n",
       "      <td>start</td>\n",
       "      <td>2017-04-12 20:19:36</td>\n",
       "      <td>58723.0</td>\n",
       "      <td>Control</td>\n",
       "    </tr>\n",
       "    <tr>\n",
       "      <th>2</th>\n",
       "      <td>169</td>\n",
       "      <td>201385055_71273495308</td>\n",
       "      <td>749567106_99161211863_557568</td>\n",
       "      <td>step_1</td>\n",
       "      <td>2017-04-12 20:19:45</td>\n",
       "      <td>58723.0</td>\n",
       "      <td>Control</td>\n",
       "    </tr>\n",
       "    <tr>\n",
       "      <th>3</th>\n",
       "      <td>169</td>\n",
       "      <td>201385055_71273495308</td>\n",
       "      <td>749567106_99161211863_557568</td>\n",
       "      <td>step_2</td>\n",
       "      <td>2017-04-12 20:20:31</td>\n",
       "      <td>58723.0</td>\n",
       "      <td>Control</td>\n",
       "    </tr>\n",
       "    <tr>\n",
       "      <th>4</th>\n",
       "      <td>169</td>\n",
       "      <td>201385055_71273495308</td>\n",
       "      <td>749567106_99161211863_557568</td>\n",
       "      <td>step_3</td>\n",
       "      <td>2017-04-12 20:22:05</td>\n",
       "      <td>58723.0</td>\n",
       "      <td>Control</td>\n",
       "    </tr>\n",
       "  </tbody>\n",
       "</table>\n",
       "</div>"
      ],
      "text/plain": [
       "   client_id             visitor_id                      visit_id  \\\n",
       "0        169  201385055_71273495308  749567106_99161211863_557568   \n",
       "1        169  201385055_71273495308  749567106_99161211863_557568   \n",
       "2        169  201385055_71273495308  749567106_99161211863_557568   \n",
       "3        169  201385055_71273495308  749567106_99161211863_557568   \n",
       "4        169  201385055_71273495308  749567106_99161211863_557568   \n",
       "\n",
       "  process_step           date_time       id variation  \n",
       "0      confirm 2017-04-12 20:23:09  58723.0   Control  \n",
       "1        start 2017-04-12 20:19:36  58723.0   Control  \n",
       "2       step_1 2017-04-12 20:19:45  58723.0   Control  \n",
       "3       step_2 2017-04-12 20:20:31  58723.0   Control  \n",
       "4       step_3 2017-04-12 20:22:05  58723.0   Control  "
      ]
     },
     "execution_count": 6,
     "metadata": {},
     "output_type": "execute_result"
    }
   ],
   "source": [
    "df_visits = df_visits.merge(df_experiments, on=\"client_id\", how=\"left\")\n",
    "df_visits.head()"
   ]
  },
  {
   "cell_type": "code",
   "execution_count": 7,
   "metadata": {},
   "outputs": [
    {
     "name": "stdout",
     "output_type": "stream",
     "text": [
      "   client_id             visitor_id                      visit_id  \\\n",
      "0        169  201385055_71273495308  749567106_99161211863_557568   \n",
      "1        169  201385055_71273495308  749567106_99161211863_557568   \n",
      "2        169  201385055_71273495308  749567106_99161211863_557568   \n",
      "3        169  201385055_71273495308  749567106_99161211863_557568   \n",
      "4        169  201385055_71273495308  749567106_99161211863_557568   \n",
      "\n",
      "  process_step           date_time  \n",
      "0      confirm 2017-04-12 20:23:09  \n",
      "1        start 2017-04-12 20:19:36  \n",
      "2       step_1 2017-04-12 20:19:45  \n",
      "3       step_2 2017-04-12 20:20:31  \n",
      "4       step_3 2017-04-12 20:22:05  \n",
      "    client_id             visitor_id                      visit_id  \\\n",
      "11        555  402506806_56087378777  637149525_38041617439_716659   \n",
      "12        555  402506806_56087378777  637149525_38041617439_716659   \n",
      "13        555  402506806_56087378777  637149525_38041617439_716659   \n",
      "14        555  402506806_56087378777  637149525_38041617439_716659   \n",
      "15        555  402506806_56087378777  637149525_38041617439_716659   \n",
      "\n",
      "   process_step           date_time  \n",
      "11      confirm 2017-04-15 13:00:34  \n",
      "12        start 2017-04-15 12:57:56  \n",
      "13       step_1 2017-04-15 12:58:03  \n",
      "14       step_2 2017-04-15 12:58:35  \n",
      "15       step_3 2017-04-15 13:00:14  \n"
     ]
    }
   ],
   "source": [
    "df_control = df_visits[df_visits[\"variation\"] == \"Control\"].drop(columns=[\"id\", \"variation\"])\n",
    "df_test = df_visits[df_visits[\"variation\"] == \"Test\"].drop(columns=[\"id\", \"variation\"])\n",
    "\n",
    "print(df_control.head())\n",
    "print(df_test.head())"
   ]
  },
  {
   "cell_type": "code",
   "execution_count": 8,
   "metadata": {},
   "outputs": [
    {
     "data": {
      "text/plain": [
       "start      100.000000\n",
       "step_1      85.327674\n",
       "step_2      73.939613\n",
       "step_3      66.955658\n",
       "confirm     65.598001\n",
       "dtype: float64"
      ]
     },
     "execution_count": 8,
     "metadata": {},
     "output_type": "execute_result"
    }
   ],
   "source": [
    "import matplotlib.pyplot as plt\n",
    "\n",
    "steps = [\"start\", \"step_1\", \"step_2\", \"step_3\", \"confirm\"]\n",
    "compare = \"start\"\n",
    "\n",
    "df_control_completion_rates = [100 * len(df_control[df_control[\"process_step\"] == step]) / len(df_control[df_control[\"process_step\"] == compare]) for step in steps]\n",
    "df_control_completion_rates = pd.Series(df_control_completion_rates, index=steps)\n",
    "\n",
    "df_test_completion_rates = [100 * len(df_test[df_test[\"process_step\"] == step]) / len(df_test[df_test[\"process_step\"] == compare]) for step in steps]\n",
    "df_test_completion_rates = pd.Series(df_test_completion_rates, index=steps)\n",
    "df_test_completion_rates.head()"
   ]
  },
  {
   "cell_type": "code",
   "execution_count": 9,
   "metadata": {},
   "outputs": [
    {
     "data": {
      "image/png": "[encoded data removed]",
      "text/plain": [
       "<Figure size 640x480 with 1 Axes>"
      ]
     },
     "metadata": {},
     "output_type": "display_data"
    }
   ],
   "source": [
    "df_completion_rates = pd.DataFrame({ \"Control\": df_control_completion_rates, \"Test\": df_test_completion_rates })\n",
    "df_completion_rates.plot(kind=\"bar\", title=\"Completion Rates\");\n",
    "\n",
    "for i, value in enumerate(df_completion_rates[\"Control\"]): plt.text(i, value, f\"{value:.2f}%\", ha=\"center\", va=\"bottom\")\n",
    "for i, value in enumerate(df_completion_rates[\"Test\"]): plt.text(i, value, f\"{value:.2f}%\", ha=\"center\", va=\"bottom\")"
   ]
  },
  {
   "cell_type": "code",
   "execution_count": 10,
   "metadata": {},
   "outputs": [
    {
     "data": {
      "text/html": [
       "<div>\n",
       "<style scoped>\n",
       "    .dataframe tbody tr th:only-of-type {\n",
       "        vertical-align: middle;\n",
       "    }\n",
       "\n",
       "    .dataframe tbody tr th {\n",
       "        vertical-align: top;\n",
       "    }\n",
       "\n",
       "    .dataframe thead th {\n",
       "        text-align: right;\n",
       "    }\n",
       "</style>\n",
       "<table border=\"1\" class=\"dataframe\">\n",
       "  <thead>\n",
       "    <tr style=\"text-align: right;\">\n",
       "      <th></th>\n",
       "      <th>client_id</th>\n",
       "      <th>visitor_id</th>\n",
       "      <th>visit_id</th>\n",
       "      <th>process_step</th>\n",
       "      <th>date_time</th>\n",
       "      <th>id</th>\n",
       "      <th>variation</th>\n",
       "      <th>process_step_value</th>\n",
       "    </tr>\n",
       "  </thead>\n",
       "  <tbody>\n",
       "    <tr>\n",
       "      <th>1</th>\n",
       "      <td>169</td>\n",
       "      <td>201385055_71273495308</td>\n",
       "      <td>749567106_99161211863_557568</td>\n",
       "      <td>start</td>\n",
       "      <td>2017-04-12 20:19:36</td>\n",
       "      <td>58723.0</td>\n",
       "      <td>Control</td>\n",
       "      <td>0</td>\n",
       "    </tr>\n",
       "    <tr>\n",
       "      <th>2</th>\n",
       "      <td>169</td>\n",
       "      <td>201385055_71273495308</td>\n",
       "      <td>749567106_99161211863_557568</td>\n",
       "      <td>step_1</td>\n",
       "      <td>2017-04-12 20:19:45</td>\n",
       "      <td>58723.0</td>\n",
       "      <td>Control</td>\n",
       "      <td>1</td>\n",
       "    </tr>\n",
       "    <tr>\n",
       "      <th>3</th>\n",
       "      <td>169</td>\n",
       "      <td>201385055_71273495308</td>\n",
       "      <td>749567106_99161211863_557568</td>\n",
       "      <td>step_2</td>\n",
       "      <td>2017-04-12 20:20:31</td>\n",
       "      <td>58723.0</td>\n",
       "      <td>Control</td>\n",
       "      <td>2</td>\n",
       "    </tr>\n",
       "    <tr>\n",
       "      <th>4</th>\n",
       "      <td>169</td>\n",
       "      <td>201385055_71273495308</td>\n",
       "      <td>749567106_99161211863_557568</td>\n",
       "      <td>step_3</td>\n",
       "      <td>2017-04-12 20:22:05</td>\n",
       "      <td>58723.0</td>\n",
       "      <td>Control</td>\n",
       "      <td>3</td>\n",
       "    </tr>\n",
       "    <tr>\n",
       "      <th>0</th>\n",
       "      <td>169</td>\n",
       "      <td>201385055_71273495308</td>\n",
       "      <td>749567106_99161211863_557568</td>\n",
       "      <td>confirm</td>\n",
       "      <td>2017-04-12 20:23:09</td>\n",
       "      <td>58723.0</td>\n",
       "      <td>Control</td>\n",
       "      <td>4</td>\n",
       "    </tr>\n",
       "  </tbody>\n",
       "</table>\n",
       "</div>"
      ],
      "text/plain": [
       "   client_id             visitor_id                      visit_id  \\\n",
       "1        169  201385055_71273495308  749567106_99161211863_557568   \n",
       "2        169  201385055_71273495308  749567106_99161211863_557568   \n",
       "3        169  201385055_71273495308  749567106_99161211863_557568   \n",
       "4        169  201385055_71273495308  749567106_99161211863_557568   \n",
       "0        169  201385055_71273495308  749567106_99161211863_557568   \n",
       "\n",
       "  process_step           date_time       id variation  process_step_value  \n",
       "1        start 2017-04-12 20:19:36  58723.0   Control                   0  \n",
       "2       step_1 2017-04-12 20:19:45  58723.0   Control                   1  \n",
       "3       step_2 2017-04-12 20:20:31  58723.0   Control                   2  \n",
       "4       step_3 2017-04-12 20:22:05  58723.0   Control                   3  \n",
       "0      confirm 2017-04-12 20:23:09  58723.0   Control                   4  "
      ]
     },
     "execution_count": 10,
     "metadata": {},
     "output_type": "execute_result"
    }
   ],
   "source": [
    "process_step_mapper = {\n",
    "    \"start\": 0,\n",
    "\t\"step_1\": 1,\n",
    "\t\"step_2\": 2,\n",
    "\t\"step_3\": 3,\n",
    "\t\"confirm\": 4\n",
    "}\n",
    "\n",
    "df_visits[\"process_step_value\"] = df_visits[\"process_step\"].map(process_step_mapper)\n",
    "df_visits.sort_values([\"client_id\", \"visitor_id\", \"visit_id\", \"process_step_value\"], inplace=True)\n",
    "\n",
    "df_visits.head()"
   ]
  },
  {
   "cell_type": "code",
   "execution_count": 11,
   "metadata": {},
   "outputs": [
    {
     "data": {
      "text/plain": [
       "process_step\n",
       "start        0.000000\n",
       "step_1      15.070534\n",
       "step_2      51.519662\n",
       "step_3     153.689493\n",
       "confirm    286.268528\n",
       "dtype: float64"
      ]
     },
     "execution_count": 11,
     "metadata": {},
     "output_type": "execute_result"
    }
   ],
   "source": [
    "df_control_duration = df_control.copy()\n",
    "\n",
    "df_control_duration[\"process_step_value\"] = df_visits[\"process_step\"].map(process_step_mapper)\n",
    "df_control_duration.sort_values([\"client_id\", \"visitor_id\", \"visit_id\", \"process_step_value\"], inplace=True)\n",
    "\n",
    "df_control_duration[\"time_spent\"] = df_control_duration.groupby([\"client_id\", \"visitor_id\", \"visit_id\"])[\"date_time\"].diff().dt.total_seconds()\n",
    "df_control_duration[\"time_spent\"] = df_control_duration[\"time_spent\"].fillna(0)\n",
    "\n",
    "df_control_duration[\"time_spent_cumulative\"] = df_control_duration.groupby([\"client_id\", \"visitor_id\", \"visit_id\"])[\"time_spent\"].cumsum()\n",
    "\n",
    "control_duration = df_control_duration.groupby([\"process_step\"]).agg({ \"time_spent_cumulative\": \"mean\" }).reset_index().sort_values(\"process_step\", key=lambda x: x.map(process_step_mapper))\n",
    "control_duration = pd.Series(control_duration[\"time_spent_cumulative\"].values, index=control_duration[\"process_step\"])\n",
    "control_duration"
   ]
  },
  {
   "cell_type": "code",
   "execution_count": 12,
   "metadata": {},
   "outputs": [
    {
     "data": {
      "text/plain": [
       "start        0.000000\n",
       "step_1       3.493879\n",
       "step_2      42.629428\n",
       "step_3     139.779022\n",
       "confirm    264.113717\n",
       "dtype: float64"
      ]
     },
     "execution_count": 12,
     "metadata": {},
     "output_type": "execute_result"
    }
   ],
   "source": [
    "df_test_duration = df_test.copy()\n",
    "\n",
    "df_test_duration[\"process_step_value\"] = df_visits[\"process_step\"].map(process_step_mapper)\n",
    "df_test_duration.sort_values([\"client_id\", \"visitor_id\", \"visit_id\", \"process_step_value\"], inplace=True)\n",
    "\n",
    "df_test_duration[\"time_spent\"] = df_test_duration.groupby([\"client_id\", \"visitor_id\", \"visit_id\"])[\"date_time\"].diff().dt.total_seconds()\n",
    "df_test_duration[\"time_spent\"] = df_test_duration[\"time_spent\"].fillna(0)\n",
    "\n",
    "df_test_duration[\"time_spent_cumulative\"] = df_test_duration.groupby([\"client_id\", \"visitor_id\", \"visit_id\"])[\"time_spent\"].cumsum()\n",
    "\n",
    "test_duration = df_test_duration.groupby([\"process_step\"]).agg({ \"time_spent_cumulative\": \"mean\" }).reset_index().sort_values(\"process_step\", key=lambda x: x.map(process_step_mapper))\n",
    "test_duration = pd.Series(test_duration[\"time_spent_cumulative\"].values, index=test_duration[\"process_step\"].values)\n",
    "test_duration"
   ]
  },
  {
   "cell_type": "code",
   "execution_count": 13,
   "metadata": {},
   "outputs": [
    {
     "data": {
      "image/png": "[encoded data removed]",
      "text/plain": [
       "<Figure size 640x480 with 1 Axes>"
      ]
     },
     "metadata": {},
     "output_type": "display_data"
    }
   ],
   "source": [
    "df_duration = pd.DataFrame({ \"Control\": control_duration, \"Test\": test_duration })\n",
    "df_duration.plot(kind=\"bar\", title=\"Average Time Spent\");\n",
    "\n",
    "for i, value in enumerate(df_duration[\"Control\"]): plt.text(i, value, f\"{value:.2f}\", ha=\"center\", va=\"bottom\")\n",
    "for i, value in enumerate(df_duration[\"Test\"]): plt.text(i, value, f\"{value:.2f}\", ha=\"center\", va=\"bottom\")"
   ]
  },
  {
   "cell_type": "code",
   "execution_count": 14,
   "metadata": {},
   "outputs": [
    {
     "data": {
      "text/plain": [
       "2.2107237303686116"
      ]
     },
     "execution_count": 14,
     "metadata": {},
     "output_type": "execute_result"
    }
   ],
   "source": [
    "df_control_transitions = df_control.copy()\n",
    "df_control_transitions[\"process_step_value\"] = df_control_transitions[\"process_step\"].map(process_step_mapper)\n",
    "\n",
    "df_control_backwards = df_control_transitions.copy()\n",
    "df_control_backwards[\"error\"] = df_control_transitions[\"process_step_value\"].diff() == -1\n",
    "df_control_backwards = df_control_backwards[df_control_backwards[\"error\"] == True]\n",
    "\n",
    "total_test_transitions = len(df_control_transitions[df_control_transitions[\"process_step\"] != \"start\"])\n",
    "control_transitions = 100 * len(df_control_backwards) / total_test_transitions\n",
    "control_transitions"
   ]
  },
  {
   "cell_type": "code",
   "execution_count": 15,
   "metadata": {},
   "outputs": [
    {
     "data": {
      "text/plain": [
       "1.944501753662059"
      ]
     },
     "execution_count": 15,
     "metadata": {},
     "output_type": "execute_result"
    }
   ],
   "source": [
    "df_test_transitions = df_test.copy()\n",
    "df_test_transitions[\"process_step_value\"] = df_test_transitions[\"process_step\"].map(process_step_mapper)\n",
    "\n",
    "df_test_backwards = df_test_transitions.copy()\n",
    "df_test_backwards[\"error\"] = df_test_transitions[\"process_step_value\"].diff() == -1\n",
    "df_test_backwards = df_test_backwards[df_test_backwards[\"error\"] == True]\n",
    "\n",
    "total_control_transitions = len(df_test_transitions[df_test_transitions[\"process_step\"] != \"start\"])\n",
    "test_transitions = 100 * len(df_test_backwards) / total_control_transitions\n",
    "test_transitions"
   ]
  }
 ],
 "metadata": {
  "kernelspec": {
   "display_name": "venv",
   "language": "python",
   "name": "venv"
  },
  "language_info": {
   "codemirror_mode": {
    "name": "ipython",
    "version": 3
   },
   "file_extension": ".py",
   "mimetype": "text/x-python",
   "name": "python",
   "nbconvert_exporter": "python",
   "pygments_lexer": "ipython3",
   "version": "3.12.4"
  }
 },
 "nbformat": 4,
 "nbformat_minor": 2
}
