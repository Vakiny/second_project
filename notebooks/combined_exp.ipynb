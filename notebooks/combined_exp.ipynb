{
 "cells": [
  {
   "cell_type": "code",
   "execution_count": 2,
   "id": "1be6cdd5-0eb9-4453-acae-eb66d317f230",
   "metadata": {},
   "outputs": [],
   "source": [
    "import pandas as pd\n",
    "import matplotlib.pyplot as plt\n",
    "import seaborn as sns\n",
    "import numpy as np\n",
    "from scipy.stats import binomtest\n",
    "from scipy.stats import ttest_ind\n",
    "import scipy.stats as stats\n",
    "%matplotlib inline"
   ]
  },
  {
   "cell_type": "code",
   "execution_count": 3,
   "id": "67aff827-4f82-4d4e-a083-09cd2569a0c8",
   "metadata": {},
   "outputs": [],
   "source": [
    "df_final = pd.read_csv(\"../data/clean/df_combined.csv\")\n",
    "df_exp = pd.read_csv(\"../data/clean/experiments.csv\")"
   ]
  },
  {
   "cell_type": "code",
   "execution_count": 4,
   "id": "3ec6eedf-850a-48f3-a4f7-7e473d68efee",
   "metadata": {},
   "outputs": [],
   "source": [
    "# Merge the two tables based on 'client_id'\n",
    "df_merged = df_final.merge(df_exp[['client_id', 'variation']], on='client_id', how='left')\n",
    "df_merged['variation'] = df_merged['variation'].fillna('Unknown')\n",
    "# Drop null rows\n",
    "df_merged = df_merged[df_merged['variation'] != 'Unknown']\n",
    "df_merged.reset_index(drop=True, inplace=True)"
   ]
  },
  {
   "cell_type": "code",
   "execution_count": 5,
   "id": "f72c484d-e2c3-4db6-85f3-4226668394fe",
   "metadata": {},
   "outputs": [],
   "source": [
    "df_merged = df_merged.drop(columns=['time_diff', 'error', 'step_numeric'])"
   ]
  },
  {
   "cell_type": "code",
   "execution_count": 6,
   "id": "d2c01d1a-a558-4878-aa39-c8db4885c6e4",
   "metadata": {},
   "outputs": [
    {
     "data": {
      "text/html": [
       "<div>\n",
       "<style scoped>\n",
       "    .dataframe tbody tr th:only-of-type {\n",
       "        vertical-align: middle;\n",
       "    }\n",
       "\n",
       "    .dataframe tbody tr th {\n",
       "        vertical-align: top;\n",
       "    }\n",
       "\n",
       "    .dataframe thead th {\n",
       "        text-align: right;\n",
       "    }\n",
       "</style>\n",
       "<table border=\"1\" class=\"dataframe\">\n",
       "  <thead>\n",
       "    <tr style=\"text-align: right;\">\n",
       "      <th></th>\n",
       "      <th>client_id</th>\n",
       "      <th>visitor_id</th>\n",
       "      <th>visit_id</th>\n",
       "      <th>process_step</th>\n",
       "      <th>date_time</th>\n",
       "      <th>variation</th>\n",
       "    </tr>\n",
       "  </thead>\n",
       "  <tbody>\n",
       "    <tr>\n",
       "      <th>0</th>\n",
       "      <td>169</td>\n",
       "      <td>201385055_71273495308</td>\n",
       "      <td>749567106_99161211863_557568</td>\n",
       "      <td>start</td>\n",
       "      <td>2017-04-12 20:19:36</td>\n",
       "      <td>Control</td>\n",
       "    </tr>\n",
       "    <tr>\n",
       "      <th>1</th>\n",
       "      <td>169</td>\n",
       "      <td>201385055_71273495308</td>\n",
       "      <td>749567106_99161211863_557568</td>\n",
       "      <td>step_1</td>\n",
       "      <td>2017-04-12 20:19:45</td>\n",
       "      <td>Control</td>\n",
       "    </tr>\n",
       "    <tr>\n",
       "      <th>2</th>\n",
       "      <td>169</td>\n",
       "      <td>201385055_71273495308</td>\n",
       "      <td>749567106_99161211863_557568</td>\n",
       "      <td>step_2</td>\n",
       "      <td>2017-04-12 20:20:31</td>\n",
       "      <td>Control</td>\n",
       "    </tr>\n",
       "    <tr>\n",
       "      <th>3</th>\n",
       "      <td>169</td>\n",
       "      <td>201385055_71273495308</td>\n",
       "      <td>749567106_99161211863_557568</td>\n",
       "      <td>step_3</td>\n",
       "      <td>2017-04-12 20:22:05</td>\n",
       "      <td>Control</td>\n",
       "    </tr>\n",
       "    <tr>\n",
       "      <th>4</th>\n",
       "      <td>169</td>\n",
       "      <td>201385055_71273495308</td>\n",
       "      <td>749567106_99161211863_557568</td>\n",
       "      <td>confirm</td>\n",
       "      <td>2017-04-12 20:23:09</td>\n",
       "      <td>Control</td>\n",
       "    </tr>\n",
       "    <tr>\n",
       "      <th>5</th>\n",
       "      <td>555</td>\n",
       "      <td>402506806_56087378777</td>\n",
       "      <td>637149525_38041617439_716659</td>\n",
       "      <td>start</td>\n",
       "      <td>2017-04-15 12:57:56</td>\n",
       "      <td>Test</td>\n",
       "    </tr>\n",
       "    <tr>\n",
       "      <th>6</th>\n",
       "      <td>555</td>\n",
       "      <td>402506806_56087378777</td>\n",
       "      <td>637149525_38041617439_716659</td>\n",
       "      <td>step_1</td>\n",
       "      <td>2017-04-15 12:58:03</td>\n",
       "      <td>Test</td>\n",
       "    </tr>\n",
       "    <tr>\n",
       "      <th>7</th>\n",
       "      <td>555</td>\n",
       "      <td>402506806_56087378777</td>\n",
       "      <td>637149525_38041617439_716659</td>\n",
       "      <td>step_2</td>\n",
       "      <td>2017-04-15 12:58:35</td>\n",
       "      <td>Test</td>\n",
       "    </tr>\n",
       "    <tr>\n",
       "      <th>8</th>\n",
       "      <td>555</td>\n",
       "      <td>402506806_56087378777</td>\n",
       "      <td>637149525_38041617439_716659</td>\n",
       "      <td>step_3</td>\n",
       "      <td>2017-04-15 13:00:14</td>\n",
       "      <td>Test</td>\n",
       "    </tr>\n",
       "    <tr>\n",
       "      <th>9</th>\n",
       "      <td>555</td>\n",
       "      <td>402506806_56087378777</td>\n",
       "      <td>637149525_38041617439_716659</td>\n",
       "      <td>confirm</td>\n",
       "      <td>2017-04-15 13:00:34</td>\n",
       "      <td>Test</td>\n",
       "    </tr>\n",
       "  </tbody>\n",
       "</table>\n",
       "</div>"
      ],
      "text/plain": [
       "   client_id             visitor_id                      visit_id  \\\n",
       "0        169  201385055_71273495308  749567106_99161211863_557568   \n",
       "1        169  201385055_71273495308  749567106_99161211863_557568   \n",
       "2        169  201385055_71273495308  749567106_99161211863_557568   \n",
       "3        169  201385055_71273495308  749567106_99161211863_557568   \n",
       "4        169  201385055_71273495308  749567106_99161211863_557568   \n",
       "5        555  402506806_56087378777  637149525_38041617439_716659   \n",
       "6        555  402506806_56087378777  637149525_38041617439_716659   \n",
       "7        555  402506806_56087378777  637149525_38041617439_716659   \n",
       "8        555  402506806_56087378777  637149525_38041617439_716659   \n",
       "9        555  402506806_56087378777  637149525_38041617439_716659   \n",
       "\n",
       "  process_step            date_time variation  \n",
       "0        start  2017-04-12 20:19:36   Control  \n",
       "1       step_1  2017-04-12 20:19:45   Control  \n",
       "2       step_2  2017-04-12 20:20:31   Control  \n",
       "3       step_3  2017-04-12 20:22:05   Control  \n",
       "4      confirm  2017-04-12 20:23:09   Control  \n",
       "5        start  2017-04-15 12:57:56      Test  \n",
       "6       step_1  2017-04-15 12:58:03      Test  \n",
       "7       step_2  2017-04-15 12:58:35      Test  \n",
       "8       step_3  2017-04-15 13:00:14      Test  \n",
       "9      confirm  2017-04-15 13:00:34      Test  "
      ]
     },
     "execution_count": 6,
     "metadata": {},
     "output_type": "execute_result"
    }
   ],
   "source": [
    "df_merged.head(10)"
   ]
  },
  {
   "cell_type": "code",
   "execution_count": 12,
   "id": "f3ea21c2-ee03-40c1-9b43-4b0f224e147e",
   "metadata": {},
   "outputs": [],
   "source": [
    "# Filter data for control and test groups\n",
    "control_group = df_merged[df_merged['variation'] == 'Control']\n",
    "test_group = df_merged[df_merged['variation'] == 'Test']"
   ]
  },
  {
   "cell_type": "code",
   "execution_count": 14,
   "id": "d4194256-1b5f-471f-ab52-687263972f6f",
   "metadata": {},
   "outputs": [
    {
     "name": "stdout",
     "output_type": "stream",
     "text": [
      "0.6718126225914388\n"
     ]
    }
   ],
   "source": [
    "# Calculate completion rate for control group\n",
    "control_completed = control_group[control_group['process_step'] == 'confirm']['client_id'].nunique()\n",
    "control_started = control_group[control_group['process_step'] == 'start']['client_id'].nunique()\n",
    "control_completion_rate = control_completed / control_started\n",
    "print(control_completion_rate)"
   ]
  },
  {
   "cell_type": "code",
   "execution_count": 16,
   "id": "c4aa6092-1838-4ef2-b185-6a7a10f18c2f",
   "metadata": {
    "scrolled": true
   },
   "outputs": [
    {
     "name": "stdout",
     "output_type": "stream",
     "text": [
      "0.700438547171933\n"
     ]
    }
   ],
   "source": [
    "# Calculate completion rate for test group\n",
    "test_completed = test_group[test_group['process_step'] == 'confirm']['client_id'].nunique()\n",
    "test_started = test_group[test_group['process_step'] == 'start']['client_id'].nunique()\n",
    "test_completion_rate = test_completed / test_started\n",
    "print(test_completion_rate)"
   ]
  },
  {
   "cell_type": "code",
   "execution_count": 18,
   "id": "f5dff1bb-4e0d-4754-8650-3c6d4f42b30c",
   "metadata": {},
   "outputs": [
    {
     "name": "stdout",
     "output_type": "stream",
     "text": [
      "0.028625924580494178\n"
     ]
    }
   ],
   "source": [
    "observed_increase = test_completion_rate - control_completion_rate\n",
    "print(observed_increase)"
   ]
  },
  {
   "cell_type": "code",
   "execution_count": 20,
   "id": "8c8f4589-3b5e-4303-8c21-df38ecd2cbda",
   "metadata": {},
   "outputs": [
    {
     "name": "stdout",
     "output_type": "stream",
     "text": [
      "The observed increase is <= than the 5% threshold.\n"
     ]
    }
   ],
   "source": [
    "threshold = 0.05\n",
    "\n",
    "if observed_increase >= threshold:\n",
    "    print(f\"The observed increase is >= than the 5% threshold.\")\n",
    "else:\n",
    "    print(f\"The observed increase is <= than the 5% threshold.\")\n"
   ]
  },
  {
   "cell_type": "code",
   "execution_count": 22,
   "id": "6b9c16d9-d236-4d57-a2f2-9e0ac8c5b52c",
   "metadata": {},
   "outputs": [
    {
     "name": "stdout",
     "output_type": "stream",
     "text": [
      "Binomial Test P-value : 5.6838514065e-24\n"
     ]
    }
   ],
   "source": [
    "# Binomial test\n",
    "successes = test_completed\n",
    "total = test_started\n",
    "p_null = control_completion_rate\n",
    "\n",
    "binom_result = binomtest(successes, total, p=p_null, alternative='greater')\n",
    "print(f\"Binomial Test P-value : {binom_result.pvalue:.10e}\")\n"
   ]
  },
  {
   "cell_type": "code",
   "execution_count": 24,
   "id": "9c45da1d-3a41-4e2e-9cdb-d04e557534d8",
   "metadata": {},
   "outputs": [
    {
     "name": "stdout",
     "output_type": "stream",
     "text": [
      "  process_step  completion_rate\n",
      "0      confirm         0.682721\n",
      "1        start         1.000000\n",
      "2       step_1         0.887722\n",
      "3       step_2         0.817237\n",
      "4       step_3         0.765747\n"
     ]
    }
   ],
   "source": [
    "#Calculate completion rates (number of clients who completed each step)\n",
    "clients_started = df_merged[df_merged['process_step'] == 'start']['client_id'].nunique()\n",
    "completion_rates = (\n",
    "    df_merged.groupby('process_step')['client_id'].nunique() / clients_started\n",
    ").reset_index(name='completion_rate')\n",
    "print(completion_rates)"
   ]
  },
  {
   "cell_type": "code",
   "execution_count": 26,
   "id": "a17bf520-5bf8-4b96-b01a-c8ce8d201f5e",
   "metadata": {},
   "outputs": [
    {
     "name": "stdout",
     "output_type": "stream",
     "text": [
      "0.10226471456216195\n"
     ]
    }
   ],
   "source": [
    "step_order = {'start': 0, 'step_1': 1, 'step_2': 2, 'step_3': 3, 'confirm': 4}\n",
    "df_merged['step_numeric'] = df_merged['process_step'].map(step_order)\n",
    "# Ensure the data is sorted by client_id and date_time\n",
    "df_merged = df_merged.sort_values(by=['client_id', 'date_time'])\n",
    "# Check if the next step is less than the current step\n",
    "df_merged['error'] = df_merged.groupby('client_id')['step_numeric'].shift(-1) < df_merged['step_numeric']\n",
    "error_rate = df_merged['error'].mean()\n",
    "print(error_rate)"
   ]
  },
  {
   "cell_type": "code",
   "execution_count": 27,
   "id": "14bdf416-05c8-4a9b-97c7-99f563c6b272",
   "metadata": {},
   "outputs": [
    {
     "name": "stdout",
     "output_type": "stream",
     "text": [
      "process_step\n",
      "confirm    0.063439\n",
      "start      0.000000\n",
      "step_1     0.163266\n",
      "step_2     0.141296\n",
      "step_3     0.218799\n",
      "Name: error, dtype: float64\n"
     ]
    }
   ],
   "source": [
    "error_rate_by_step = df_merged.groupby('process_step')['error'].mean()\n",
    "print(error_rate_by_step)"
   ]
  },
  {
   "cell_type": "code",
   "execution_count": 56,
   "id": "4d967f81-81d2-4585-8c8b-210c9e5029b6",
   "metadata": {},
   "outputs": [],
   "source": [
    "# Create completion arrays for Control and Test groups\n",
    "control_completion = control_group['process_step'].apply(lambda x: 1 if x == 'confirm' else 0)\n",
    "test_completion = test_group['process_step'].apply(lambda x: 1 if x == 'confirm' else 0)"
   ]
  },
  {
   "cell_type": "code",
   "execution_count": 50,
   "id": "9e194e54-fac4-4f6e-9b4a-a65dc56c75c9",
   "metadata": {},
   "outputs": [
    {
     "name": "stdout",
     "output_type": "stream",
     "text": [
      "T-statistic: -14.8044, P-value: 1.4182407520e-49\n"
     ]
    }
   ],
   "source": [
    "t_stat, p_value = ttest_ind(control_completion, test_completion, equal_var=False)\n",
    "print(f\"T-statistic: {t_stat:.4f}, P-value: {p_value:.10e}\")"
   ]
  },
  {
   "cell_type": "code",
   "execution_count": 52,
   "id": "075423cb-5941-48a7-87d8-0dc56aaf98de",
   "metadata": {},
   "outputs": [
    {
     "name": "stdout",
     "output_type": "stream",
     "text": [
      "The difference in completion rates between Control and Test groups is statistically significant.\n"
     ]
    }
   ],
   "source": [
    "# Interpret the result\n",
    "alpha = 0.05\n",
    "if p_value < alpha:\n",
    "    print(\"The difference in completion rates between Control and Test groups is statistically significant.\")\n",
    "else:\n",
    "    print(\"The difference in completion rates between Control and Test groups is not statistically significant.\")"
   ]
  },
  {
   "cell_type": "code",
   "execution_count": null,
   "id": "dffb3212-73cb-4b4c-bc0c-d14ee56e920c",
   "metadata": {},
   "outputs": [],
   "source": []
  }
 ],
 "metadata": {
  "kernelspec": {
   "display_name": "Python 3 (ipykernel)",
   "language": "python",
   "name": "python3"
  },
  "language_info": {
   "codemirror_mode": {
    "name": "ipython",
    "version": 3
   },
   "file_extension": ".py",
   "mimetype": "text/x-python",
   "name": "python",
   "nbconvert_exporter": "python",
   "pygments_lexer": "ipython3",
   "version": "3.12.4"
  }
 },
 "nbformat": 4,
 "nbformat_minor": 5
}
